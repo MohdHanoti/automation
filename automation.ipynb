{
 "cells": [
  {
   "cell_type": "code",
   "execution_count": 74,
   "metadata": {},
   "outputs": [],
   "source": [
    "# Read the data \n",
    "import pandas as pd\n",
    "\n",
    "df = pd.read_csv(\"daily_report_python.csv\")\n",
    "df_att= pd.read_csv(\"data.csv\")"
   ]
  },
  {
   "cell_type": "code",
   "execution_count": 75,
   "metadata": {},
   "outputs": [],
   "source": [
    "# Divide the data\n",
    "df_1, df_2 = df[:1], df[1:]\n",
    "meeting_duration = df_1[\"Duration (Minutes)\"][0]\n",
    "meeting_duration = int(meeting_duration)\n",
    "meeting_id = df_1[\"Meeting ID\"][0]"
   ]
  },
  {
   "cell_type": "code",
   "execution_count": 76,
   "metadata": {},
   "outputs": [
    {
     "name": "stderr",
     "output_type": "stream",
     "text": [
      "/tmp/ipykernel_6220/1282784945.py:3: SettingWithCopyWarning: \n",
      "A value is trying to be set on a copy of a slice from a DataFrame\n",
      "\n",
      "See the caveats in the documentation: https://pandas.pydata.org/pandas-docs/stable/user_guide/indexing.html#returning-a-view-versus-a-copy\n",
      "  df_2.drop(df_2.index[0], inplace=True)\n"
     ]
    }
   ],
   "source": [
    "# Preparing data\n",
    "df_2.columns = df_2.iloc[0]\n",
    "df_2.drop(df_2.index[0], inplace=True)"
   ]
  },
  {
   "cell_type": "code",
   "execution_count": 77,
   "metadata": {},
   "outputs": [
    {
     "name": "stderr",
     "output_type": "stream",
     "text": [
      "/tmp/ipykernel_6220/2108338183.py:2: SettingWithCopyWarning: \n",
      "A value is trying to be set on a copy of a slice from a DataFrame.\n",
      "Try using .loc[row_indexer,col_indexer] = value instead\n",
      "\n",
      "See the caveats in the documentation: https://pandas.pydata.org/pandas-docs/stable/user_guide/indexing.html#returning-a-view-versus-a-copy\n",
      "  df_2[\"Student ID\"] = df_2[\"User Email\"].str.extract(pat='(^[0-9]*)')\n"
     ]
    }
   ],
   "source": [
    "# Get students ID\n",
    "df_2[\"Student ID\"] = df_2[\"User Email\"].str.extract(pat='(^[0-9]*)')\n"
   ]
  },
  {
   "cell_type": "code",
   "execution_count": 78,
   "metadata": {},
   "outputs": [
    {
     "name": "stderr",
     "output_type": "stream",
     "text": [
      "/tmp/ipykernel_6220/1183071282.py:2: SettingWithCopyWarning: \n",
      "A value is trying to be set on a copy of a slice from a DataFrame.\n",
      "Try using .loc[row_indexer,col_indexer] = value instead\n",
      "\n",
      "See the caveats in the documentation: https://pandas.pydata.org/pandas-docs/stable/user_guide/indexing.html#returning-a-view-versus-a-copy\n",
      "  df_2[\"Total\"] = df_2[\"Duration (Minutes)\"].astype(\"int\")\n"
     ]
    }
   ],
   "source": [
    "# Sum total of time for each student\n",
    "df_2[\"Total\"] = df_2[\"Duration (Minutes)\"].astype(\"int\")\n",
    "\n",
    "df_2 = df_2.groupby(\"Student ID\", as_index=False).sum(numeric_only=True)\n"
   ]
  },
  {
   "cell_type": "code",
   "execution_count": 85,
   "metadata": {},
   "outputs": [
    {
     "name": "stdout",
     "output_type": "stream",
     "text": [
      "   94260712307 Student ID\n",
      "1      Present   19012233\n",
      "2      Present   20019322\n",
      "3         Late   20019523\n",
      "4      Present   20020480\n",
      "5         Late   21023784\n",
      "6      Present   22032930\n",
      "7      Present   22033848\n",
      "8      Present   22034140\n",
      "9       Absent   22034185\n",
      "10     Present   22034186\n",
      "11     Present   22034189\n",
      "12     Present   22034245\n",
      "13     Present   22034252\n",
      "14     Present   22034270\n",
      "15     Present   22034278\n",
      "16     Present   22034284\n",
      "17     Present   22034289\n",
      "18        Late   22034306\n",
      "19        Late   22034311\n",
      "20        Late   22034319\n",
      "21     Present   22034326\n",
      "22     Present   22034356\n",
      "23     Present   22034359\n",
      "24     Present   22034361\n",
      "25      Absent   22034362\n",
      "26     Present   22034365\n",
      "27     Present   22034368\n",
      "28        Late   22034371\n"
     ]
    }
   ],
   "source": [
    "# Status:\n",
    "# print(meeting_duration)\n",
    "df_2[\"Status\"] = ['Present' if x >= meeting_duration-10 else \"Absent\" if x <\n",
    "                  meeting_duration - 20 else \"Late\" for x in df_2[\"Total\"]]\n",
    "\n",
    "\n",
    "# daily report in a new column\n",
    "\n",
    "df_att[meeting_id] = df_2[\"Status\"]\n",
    "df_att[\"Student ID\"] = df_2[\"Student ID\"]\n",
    "df_att.to_csv(\"data.csv\")\n",
    "\n",
    "print(df_att)\n"
   ]
  }
 ],
 "metadata": {
  "kernelspec": {
   "display_name": "Python 3.10.7 ('.venv': venv)",
   "language": "python",
   "name": "python3"
  },
  "language_info": {
   "codemirror_mode": {
    "name": "ipython",
    "version": 3
   },
   "file_extension": ".py",
   "mimetype": "text/x-python",
   "name": "python",
   "nbconvert_exporter": "python",
   "pygments_lexer": "ipython3",
   "version": "3.10.7"
  },
  "orig_nbformat": 4,
  "vscode": {
   "interpreter": {
    "hash": "529fd7d698a039bf49b0dc6c2893243f872d56ecf99e63631de1d3db88527010"
   }
  }
 },
 "nbformat": 4,
 "nbformat_minor": 2
}
